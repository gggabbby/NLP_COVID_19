{
 "metadata": {
  "language_info": {
   "codemirror_mode": {
    "name": "ipython",
    "version": 3
   },
   "file_extension": ".py",
   "mimetype": "text/x-python",
   "name": "python",
   "nbconvert_exporter": "python",
   "pygments_lexer": "ipython3",
   "version": "3.7.6-final"
  },
  "orig_nbformat": 2,
  "kernelspec": {
   "name": "python3",
   "display_name": "Python 3"
  }
 },
 "nbformat": 4,
 "nbformat_minor": 2,
 "cells": [
  {
   "cell_type": "code",
   "execution_count": 1,
   "metadata": {},
   "outputs": [],
   "source": [
    "# https://www.kaggle.com/phyothuhtet/document-clustering-self-organizing-map-kmeans"
   ]
  },
  {
   "cell_type": "code",
   "execution_count": 2,
   "metadata": {},
   "outputs": [],
   "source": [
    "# importing necessary libraries\n",
    "import pandas as pd\n",
    "import matplotlib.pyplot as plt\n",
    "import re\n",
    "import numpy as np"
   ]
  },
  {
   "cell_type": "code",
   "execution_count": 3,
   "metadata": {},
   "outputs": [
    {
     "output_type": "stream",
     "name": "stdout",
     "text": [
      "Original Size of Data: (332458, 19)\n"
     ]
    }
   ],
   "source": [
    "#read data set\n",
    "meta_data = pd.read_csv('metadata.csv')\n",
    "print('Original Size of Data:',meta_data.shape)"
   ]
  },
  {
   "cell_type": "code",
   "execution_count": 4,
   "metadata": {},
   "outputs": [
    {
     "output_type": "stream",
     "name": "stdout",
     "text": [
      "Data Size after dropping rows with null values (based on abstract attribute): (237480, 19)\n"
     ]
    }
   ],
   "source": [
    "#drop rows with null values (based on abstract attribute)\n",
    "meta_data.dropna(subset = ['abstract'],axis = 0, inplace = True)\n",
    "print('Data Size after dropping rows with null values (based on abstract attribute):',meta_data.shape)"
   ]
  },
  {
   "cell_type": "code",
   "execution_count": 5,
   "metadata": {},
   "outputs": [
    {
     "output_type": "stream",
     "name": "stdout",
     "text": [
      "        cord_uid  sha                source_x  \\\n",
      "7546    6r98lq0t  NaN                     PMC   \n",
      "7547    8qcd85x7  NaN                     PMC   \n",
      "10546   j0mb9zr4  NaN                     PMC   \n",
      "10709   zhw8vh3e  NaN                     PMC   \n",
      "10804   smm5s0ai  NaN                     PMC   \n",
      "...          ...  ...                     ...   \n",
      "330907  8x9jvdc7  NaN  Elsevier; Medline; PMC   \n",
      "331049  lkn56018  NaN            Medline; PMC   \n",
      "331513  84as86vm  NaN            Medline; PMC   \n",
      "331783  5tv572yc  NaN            Medline; PMC   \n",
      "331870  lbeal8hf  NaN  Elsevier; Medline; PMC   \n",
      "\n",
      "                                                    title  \\\n",
      "7546    Management in Ausnahmesituationen: Taktisches ...   \n",
      "7547    Management in Ausnahmesituationen: Taktisches ...   \n",
      "10546   Infektionsschutzrecht nach Inkrafttreten des M...   \n",
      "10709   Artificial Intelligence (AI) applications for ...   \n",
      "10804   Infektionsschutzrecht nach Inkrafttreten des M...   \n",
      "...                                                   ...   \n",
      "330907  Does IHU Mediterranean Infection influence Gil...   \n",
      "331049  Correction to: Nationwide system to centralize...   \n",
      "331513  Prognostic Modeling of COVID-19 Using Artifici...   \n",
      "331783  Efficacy of Liu-zi-jue in Patients with 2019 N...   \n",
      "331870                                A strange new world   \n",
      "\n",
      "                                  doi       pmcid    pubmed_id      license  \\\n",
      "7546        10.1007/s00740-011-0347-2  PMC7111714     32288861        no-cc   \n",
      "7547        10.1007/s00735-011-0469-1  PMC7111728     32288313        no-cc   \n",
      "10546      10.1007/s00120-020-01212-x  PMC7184239     32338303        no-cc   \n",
      "10709       10.1016/j.dsx.2020.04.012  PMC7195043     32305024        no-cc   \n",
      "10804      10.1007/s00129-020-04606-2  PMC7203504     32382165        no-cc   \n",
      "...                               ...         ...          ...          ...   \n",
      "330907     10.1016/j.nmni.2020.100711  PMC7525330  3.30144e+07  cc-by-nc-nd   \n",
      "331049     10.1186/s40560-020-00454-3  PMC7246300  3.24999e+07        cc-by   \n",
      "331513                  10.2196/20259  PMC7451108  3.27355e+07        cc-by   \n",
      "331783     10.1186/s13063-020-04383-2  PMC7245505  3.24463e+07        cc-by   \n",
      "331870  10.1016/s0262-4079(20)30610-2  PMC7270492  3.25185e+07    els-covid   \n",
      "\n",
      "                                                 abstract publish_time  \\\n",
      "7546    Im öffentlichen Gesundheitsdienst und vor alle...   2011-04-27   \n",
      "7547    Im öffentlichen Gesundheitsdienst und vor alle...   2011-07-19   \n",
      "10546   On 1 March 2020, the amendments to the German ...   2020-04-27   \n",
      "10709   BACKGROUND AND AIMS: Healthcare delivery requi...   2020-04-14   \n",
      "10804   On 1 March 2020, the amendments to the German ...   2020-05-07   \n",
      "...                                                   ...          ...   \n",
      "330907  During Covid-19 pandemic the Gilead stock pric...   2020-09-30   \n",
      "331049  [This corrects the article DOI: 10.1186/s40560...   2020-05-25   \n",
      "331513  BACKGROUND: The current severe acute respirato...   2020-08-25   \n",
      "331783  OBJECTIVES: Efficacy of conventional treatment...   2020-05-23   \n",
      "331870  The new coronavirus may be upending our lives,...   2020-03-28   \n",
      "\n",
      "                                                  authors  \\\n",
      "7546                                         Seidl, Franz   \n",
      "7547                                            Seidl, F.   \n",
      "10546                                       Lissel, P. M.   \n",
      "10709   Vaishya, Raju; Javaid, Mohd; Khan, Ibrahim Hal...   \n",
      "10804                                       Lissel, P. M.   \n",
      "...                                                   ...   \n",
      "330907                                    Eric, Chabriere   \n",
      "331049                                                NaN   \n",
      "331513  Abdulaal, Ahmed; Patel, Aatish; Charani, Esmit...   \n",
      "331783  Zhang, Shuaipan; Lv, Zhizhen; Zhu, Qingguang; ...   \n",
      "331870                                                NaN   \n",
      "\n",
      "                                journal  mag_id who_covidence_id arxiv_id  \\\n",
      "7546                      Wien Klin Mag     NaN              NaN      NaN   \n",
      "7547                            Procare     NaN              NaN      NaN   \n",
      "10546                         Urologe A     NaN              NaN      NaN   \n",
      "10709              Diabetes Metab Syndr     NaN              NaN      NaN   \n",
      "10804                        Gynakologe     NaN              NaN      NaN   \n",
      "...                                 ...     ...              ...      ...   \n",
      "330907  New microbes and new infections     NaN              NaN      NaN   \n",
      "331049                 J Intensive Care     NaN              NaN      NaN   \n",
      "331513               J Med Internet Res     NaN              NaN      NaN   \n",
      "331783                           Trials     NaN              NaN      NaN   \n",
      "331870                    New Scientist     NaN              NaN      NaN   \n",
      "\n",
      "       pdf_json_files                                pmc_json_files  \\\n",
      "7546              NaN                                           NaN   \n",
      "7547              NaN                                           NaN   \n",
      "10546             NaN                                           NaN   \n",
      "10709             NaN  document_parses/pmc_json/PMC7195043.xml.json   \n",
      "10804             NaN                                           NaN   \n",
      "...               ...                                           ...   \n",
      "330907            NaN                                           NaN   \n",
      "331049            NaN  document_parses/pmc_json/PMC7246300.xml.json   \n",
      "331513            NaN  document_parses/pmc_json/PMC7451108.xml.json   \n",
      "331783            NaN                                           NaN   \n",
      "331870            NaN                                           NaN   \n",
      "\n",
      "                                                      url        s2_id  \n",
      "7546    https://www.ncbi.nlm.nih.gov/pmc/articles/PMC7...          NaN  \n",
      "7547    https://www.ncbi.nlm.nih.gov/pmc/articles/PMC7...          NaN  \n",
      "10546   https://www.ncbi.nlm.nih.gov/pmc/articles/PMC7...          NaN  \n",
      "10709   https://www.ncbi.nlm.nih.gov/pmc/articles/PMC7...          NaN  \n",
      "10804   https://www.ncbi.nlm.nih.gov/pmc/articles/PMC7...          NaN  \n",
      "...                                                   ...          ...  \n",
      "330907  https://api.elsevier.com/content/article/pii/S...  222002128.0  \n",
      "331049  https://doi.org/10.1186/s40560-020-00454-3; ht...  218864709.0  \n",
      "331513  https://www.ncbi.nlm.nih.gov/pubmed/32735549/;...  220907760.0  \n",
      "331783  https://www.ncbi.nlm.nih.gov/pubmed/32446311/;...  218860178.0  \n",
      "331870  https://doi.org/10.1016/s0262-4079(20)30610-2;...  211582709.0  \n",
      "\n",
      "[7121 rows x 19 columns]\n",
      "Data Size after dropping duplicated data (based on abstract attribute): (233698, 19)\n"
     ]
    }
   ],
   "source": [
    "#handling duplicate data (based on 'sha','title' and 'abstract')\n",
    "print(meta_data[meta_data.duplicated(subset=['sha','title','abstract'], keep=False) == True])\n",
    "meta_data.drop_duplicates(subset=['sha','title','abstract'],keep ='last',inplace=True)\n",
    "print('Data Size after dropping duplicated data (based on abstract attribute):',meta_data.shape)"
   ]
  },
  {
   "cell_type": "code",
   "execution_count": 6,
   "metadata": {},
   "outputs": [
    {
     "output_type": "stream",
     "name": "stdout",
     "text": [
      "Num of null values ( cord_uid ): 0\n",
      "Num of null values ( sha ): 137033\n",
      "Num of null values ( source_x ): 0\n",
      "Num of null values ( title ): 22\n",
      "Num of null values ( doi ): 82745\n",
      "Num of null values ( pmcid ): 143045\n",
      "Num of null values ( pubmed_id ): 98129\n",
      "Num of null values ( license ): 0\n",
      "Num of null values ( abstract ): 0\n",
      "Num of null values ( publish_time ): 296\n",
      "Num of null values ( authors ): 2508\n",
      "Num of null values ( journal ): 17027\n",
      "Num of null values ( mag_id ): 233698\n",
      "Num of null values ( who_covidence_id ): 163656\n",
      "Num of null values ( arxiv_id ): 229428\n",
      "Num of null values ( pdf_json_files ): 137033\n",
      "Num of null values ( pmc_json_files ): 160180\n",
      "Num of null values ( url ): 68698\n",
      "Num of null values ( s2_id ): 21448\n"
     ]
    }
   ],
   "source": [
    "#function to deal with null values\n",
    "#'No Information Available' will be replaced \n",
    "def dealing_with_null_values(dataset):\n",
    "    dataset = dataset\n",
    "    for i in dataset.columns:\n",
    "        replace = []\n",
    "        data  = dataset[i].isnull()\n",
    "        count = 0\n",
    "        for j,k in zip(data,dataset[i]):\n",
    "            if (j==True):\n",
    "                count = count+1\n",
    "                replace.append('No Information Available')\n",
    "            else:\n",
    "                replace.append(k)\n",
    "        print(\"Num of null values (\",i,\"):\",count)\n",
    "        dataset[i] = replace\n",
    "    return dataset\n",
    "\n",
    "meta_data = dealing_with_null_values(meta_data)"
   ]
  },
  {
   "cell_type": "code",
   "execution_count": 7,
   "metadata": {},
   "outputs": [
    {
     "output_type": "execute_result",
     "data": {
      "text/plain": [
       "(233698, 19)"
      ]
     },
     "metadata": {},
     "execution_count": 7
    }
   ],
   "source": [
    "meta_data.shape"
   ]
  },
  {
   "cell_type": "code",
   "execution_count": 8,
   "metadata": {},
   "outputs": [
    {
     "output_type": "stream",
     "name": "stdout",
     "text": [
      "(5000, 19)\n"
     ]
    }
   ],
   "source": [
    "# select 5000 files from meta_data\n",
    "meta_data = meta_data[:5000]\n",
    "meta_data.to_csv('clean_meta_data_5000.csv', index=False)\n",
    "print(meta_data.shape)"
   ]
  },
  {
   "cell_type": "code",
   "execution_count": null,
   "metadata": {},
   "outputs": [],
   "source": []
  }
 ]
}